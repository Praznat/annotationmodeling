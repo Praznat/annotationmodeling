{
 "cells": [
  {
   "cell_type": "code",
   "execution_count": null,
   "metadata": {
    "collapsed": true,
    "pycharm": {
     "is_executing": true
    }
   },
   "outputs": [
    {
     "name": "stdout",
     "output_type": "stream",
     "text": [
      "  worker question  answer\n",
      "0   w360  t186849       4\n",
      "1    w43  t174611       5\n",
      "2  w1040  t198665       3\n",
      "3   w618   t63171       5\n",
      "4    w98  t141574       5\n",
      "  question  truth\n",
      "0  t342646      2\n",
      "1  t189317      4\n",
      "2   t48377      5\n",
      "3   t73830      3\n",
      "4   t60415      2\n"
     ]
    },
    {
     "name": "stderr",
     "output_type": "stream",
     "text": [
      " 47%|████▋     | 171211/363779 [23:25<12:42, 252.47it/s]   "
     ]
    }
   ],
   "source": [
    "\n",
    "\n",
    "%load_ext autoreload\n",
    "%autoreload 2\n",
    "import itertools\n",
    "import numpy as np\n",
    "import pandas as pd\n",
    "from matplotlib import pyplot as plt\n",
    "import experiments\n",
    "import utils\n",
    "from granularity import *\n",
    "\n",
    "annotation_df=pd.read_csv(\"crowd_labels.csv\")\n",
    "gold_df=pd.read_csv(\"golden_labels.csv\")\n",
    "\n",
    "print(annotation_df.head())\n",
    "print(gold_df.head())\n",
    "dist_fn=lambda x,y:abs(x-y)\n",
    "\n",
    "eval_fn=lambda x,y:abs(1-dist_fn(x,y))\n",
    "\n",
    "tlk_exp=experiments.RealExperiment(eval_fn,\"answer\",\"truth\",\"worker\",dist_fn)\n",
    "tlk_exp.setup(annotation_df,gold_df,c_anno_uid=\"worker\",c_anno_item=\"question\",c_anno_label=\"answer\",c_gold_item=\"question\",c_gold_label=\"truth\")\n",
    "tlk_exp.train()"
   ]
  }
 ],
 "metadata": {
  "kernelspec": {
   "display_name": "Python 3",
   "language": "python",
   "name": "python3"
  },
  "language_info": {
   "codemirror_mode": {
    "name": "ipython",
    "version": 2
   },
   "file_extension": ".py",
   "mimetype": "text/x-python",
   "name": "python",
   "nbconvert_exporter": "python",
   "pygments_lexer": "ipython2",
   "version": "2.7.6"
  }
 },
 "nbformat": 4,
 "nbformat_minor": 0
}