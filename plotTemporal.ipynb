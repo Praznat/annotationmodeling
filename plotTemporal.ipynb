{
 "cells": [
  {
   "cell_type": "code",
   "execution_count": 1,
   "outputs": [
    {
     "name": "stdout",
     "output_type": "stream",
     "text": [
      "10\n",
      "     question          worker  answer\n",
      "3896    100_1  A32IZC32FQKVRX       1\n",
      "3894    100_1   AUPV5WJK85K4F       1\n",
      "3892    100_1   AM7BYJ804O5TF       1\n",
      "3891    100_1  A1AML5YZXW4FIS       1\n",
      "3890    100_1  A3G0MGLBT484I1       1\n",
      "...       ...             ...     ...\n",
      "3095      9_5  A23NXGIV5YVQHJ       1\n",
      "3091      9_5   AYHHOK9GDSWNH       1\n",
      "3098      9_5  A3PIXX8DQGYHGI       2\n",
      "3099      9_5  A18941IO2ZZWW6       2\n",
      "3092      9_5   AUPV5WJK85K4F       1\n",
      "\n",
      "[4158 rows x 3 columns]\n",
      "76 & 462 & 4158 & 54.71$\\pm$196.14 & 9.0$\\pm$0.0 & 797\n",
      "Pickled model loaded\n",
      "Pickled model loaded\n",
      "BEST AVAILABLE USER\n",
      "0.7367965367965368 0.9199134199134199\n",
      "t-test Ttest_relResult(statistic=-19.153163820144268, pvalue=5.248108534615837e-76)\n",
      "z-score 0.3985919806659776\n",
      "baseline below thresh 0.0\n",
      "model below thresh 0.0\n",
      "SMALLEST AVERAGE DISTANCE\n",
      "0.7367965367965368 0.9393939393939394\n",
      "t-test Ttest_relResult(statistic=-22.276232810533475, pvalue=9.742760280366826e-100)\n",
      "z-score 0.46358543377509187\n",
      "baseline below thresh 0.0\n",
      "model below thresh 0.0\n",
      "DISTANCE EXPECTATION MAXIMIZATION\n",
      "0.7367965367965368 0.9112554112554112\n",
      "t-test Ttest_relResult(statistic=-18.263476067299074, pvalue=1.0341514953230927e-69)\n",
      "z-score 0.38007689841059306\n",
      "baseline below thresh 0.0\n",
      "model below thresh 0.0\n",
      "MULTIDIMENSIONAL ANNOTATION SCALING\n",
      "0.7367965367965368 0.922077922077922\n",
      "t-test Ttest_relResult(statistic=-19.43629265194703, pvalue=4.693205966475215e-78)\n",
      "z-score 0.4044841080926337\n",
      "baseline below thresh 0.0\n",
      "model below thresh 0.0\n",
      "ORACLE\n",
      "0.7367965367965368 0.9956709956709957\n",
      "t-test Ttest_relResult(statistic=-28.399498975441006, pvalue=2.0098361251775613e-152)\n",
      "z-score 0.5910152835761193\n",
      "baseline below thresh 0.0\n",
      "model below thresh 0.0\n",
      "\n",
      " ALL\n",
      "ru 0 0.4408363504104231\n",
      "bau -0.4596706100003736 0.40028914925249953\n",
      "sad -0.7871669749998726 0.28499951409992436\n",
      "mas -0.845527790356804 0.23734054397684265\n",
      "Proper scores\n",
      "MAS 0.7112608278295319\n",
      "SAD 0.7024948658654377\n",
      "BAU 0.7048881184928406\n",
      "     question          worker  answer\n",
      "3897    100_1  A3PIXX8DQGYHGI       2\n",
      "3894    100_1   AUPV5WJK85K4F       1\n",
      "3890    100_1  A3G0MGLBT484I1       1\n",
      "3899    100_1  A18941IO2ZZWW6       2\n",
      "3898    100_1  A11GX90QFWDLMM       2\n",
      "...       ...             ...     ...\n",
      "3099      9_5  A18941IO2ZZWW6       2\n",
      "3091      9_5   AYHHOK9GDSWNH       1\n",
      "3093      9_5  A1GR4JB3DODIQ1       1\n",
      "3090      9_5   AEU1NROWHLIJF       1\n",
      "3092      9_5   AUPV5WJK85K4F       1\n",
      "\n",
      "[3234 rows x 3 columns]\n",
      "76 & 462 & 3234 & 42.55$\\pm$154.08 & 7.0$\\pm$0.0 & 730\n",
      "Pickled model loaded\n",
      "Pickled model loaded\n",
      "BEST AVAILABLE USER\n",
      "0.7324675324675325 0.9177489177489178\n",
      "t-test Ttest_relResult(statistic=-18.752368868840012, pvalue=3.8257502817998896e-73)\n",
      "z-score 0.39025113134304407\n",
      "baseline below thresh 0.0\n",
      "model below thresh 0.0\n",
      "SMALLEST AVERAGE DISTANCE\n",
      "0.7324675324675325 0.9415584415584416\n",
      "t-test Ttest_relResult(statistic=-22.321632961571897, pvalue=4.228582449921251e-100)\n",
      "z-score 0.4645302456241873\n",
      "baseline below thresh 0.0\n",
      "model below thresh 0.0\n",
      "DISTANCE EXPECTATION MAXIMIZATION\n",
      "0.7324675324675325 0.9415584415584416\n",
      "t-test Ttest_relResult(statistic=-22.321632961571897, pvalue=4.228582449921251e-100)\n",
      "z-score 0.4645302456241873\n",
      "baseline below thresh 0.0\n",
      "model below thresh 0.0\n",
      "MULTIDIMENSIONAL ANNOTATION SCALING\n",
      "0.7324675324675325 0.9264069264069265\n",
      "t-test Ttest_relResult(statistic=-19.850707015633546, pvalue=4.310508168920445e-81)\n",
      "z-score 0.4131083877985541\n",
      "baseline below thresh 0.0\n",
      "model below thresh 0.0\n",
      "ORACLE\n",
      "0.7324675324675325 0.9978354978354979\n",
      "t-test Ttest_relResult(statistic=-28.880272224267387, pvalue=7.680585020584013e-157)\n",
      "z-score 0.6010205424096168\n",
      "baseline below thresh 0.0\n",
      "model below thresh 0.0\n",
      "\n",
      " ALL\n",
      "ru 0 0.44182426877042497\n",
      "bau -0.4496665838828628 0.40359239562625643\n",
      "sad -0.7579628875585802 0.29458072750444614\n",
      "mas -0.8356860375073261 0.24378950208271796\n",
      "Proper scores\n",
      "MAS 0.6412842039728308\n",
      "SAD 0.6307633610381143\n",
      "BAU 0.6361491379408677\n",
      "     question          worker  answer\n",
      "3895    100_1   AYHHOK9GDSWNH       1\n",
      "3891    100_1  A1AML5YZXW4FIS       1\n",
      "3894    100_1   AUPV5WJK85K4F       1\n",
      "3898    100_1  A11GX90QFWDLMM       2\n",
      "3896    100_1  A32IZC32FQKVRX       1\n",
      "...       ...             ...     ...\n",
      "3099      9_5  A18941IO2ZZWW6       2\n",
      "3094      9_5  A3MPXWFMR0Y2LK       1\n",
      "3098      9_5  A3PIXX8DQGYHGI       2\n",
      "3096      9_5  A38UUFVXEND88G       1\n",
      "3090      9_5   AEU1NROWHLIJF       1\n",
      "\n",
      "[2310 rows x 3 columns]\n",
      "76 & 462 & 2310 & 30.39$\\pm$107.78 & 5.0$\\pm$0.0 & 632\n",
      "Pickled model loaded\n",
      "Pickled model loaded\n",
      "BEST AVAILABLE USER\n",
      "0.7389610389610389 0.9199134199134199\n",
      "t-test Ttest_relResult(statistic=-18.910863889338064, pvalue=2.8569562076373904e-74)\n",
      "z-score 0.39354953388056985\n",
      "baseline below thresh 0.0\n",
      "model below thresh 0.0\n",
      "SMALLEST AVERAGE DISTANCE\n",
      "0.7389610389610389 0.9112554112554112\n",
      "t-test Ttest_relResult(statistic=-18.56439784421271, pvalue=8.130151081802387e-72)\n",
      "z-score 0.3863393106267606\n",
      "baseline below thresh 0.0\n",
      "model below thresh 0.0\n",
      "DISTANCE EXPECTATION MAXIMIZATION\n",
      "0.7389610389610389 0.9112554112554112\n",
      "t-test Ttest_relResult(statistic=-18.56439784421271, pvalue=8.130151081802387e-72)\n",
      "z-score 0.3863393106267606\n",
      "baseline below thresh 0.0\n",
      "model below thresh 0.0\n",
      "MULTIDIMENSIONAL ANNOTATION SCALING\n",
      "0.7389610389610389 0.9285714285714286\n",
      "t-test Ttest_relResult(statistic=-20.093511701419395, pvalue=6.82741098227174e-83)\n",
      "z-score 0.41816133892094637\n",
      "baseline below thresh 0.0\n",
      "model below thresh 0.0\n",
      "ORACLE\n",
      "0.7389610389610389 0.987012987012987\n",
      "t-test Ttest_relResult(statistic=-27.59874718690508, pvalue=3.8124270288875325e-145)\n",
      "z-score 0.5743510267247959\n",
      "baseline below thresh 0.0\n",
      "model below thresh 0.0\n",
      "\n",
      " ALL\n",
      "ru 0 0.43967107887189016\n",
      "bau -0.45219035384137224 0.40051001996251007\n",
      "sad -0.68653225171051 0.31969118103010796\n",
      "mas -0.8066499238996977 0.26564082785691845\n",
      "Proper scores\n",
      "MAS 0.5331184227493072\n",
      "SAD 0.5154511882675148\n",
      "BAU 0.5238536162122157\n",
      "     question          worker  answer\n",
      "3892    100_1   AM7BYJ804O5TF       1\n",
      "3893    100_1  A1GR4JB3DODIQ1       1\n",
      "3897    100_1  A3PIXX8DQGYHGI       2\n",
      "1728    102_0  A11GX90QFWDLMM       2\n",
      "1723    102_0  A1GR4JB3DODIQ1       2\n",
      "...       ...             ...     ...\n",
      "138       9_4  A11GX90QFWDLMM       2\n",
      "135       9_4   AXTU992Z7V3ZX       1\n",
      "3099      9_5  A18941IO2ZZWW6       2\n",
      "3095      9_5  A23NXGIV5YVQHJ       1\n",
      "3091      9_5   AYHHOK9GDSWNH       1\n",
      "\n",
      "[1386 rows x 3 columns]\n",
      "74 & 462 & 1386 & 18.73$\\pm$68.56 & 3.0$\\pm$0.0 & 462\n",
      "Pickled model loaded\n",
      "Pickled model loaded\n",
      "BEST AVAILABLE USER\n",
      "0.745021645021645 0.8701298701298701\n",
      "t-test Ttest_relResult(statistic=-13.607890488311293, pvalue=1.268831928107972e-40)\n",
      "z-score 0.28319060356582176\n",
      "baseline below thresh 0.0\n",
      "model below thresh 0.0\n",
      "SMALLEST AVERAGE DISTANCE\n",
      "0.745021645021645 0.8376623376623377\n",
      "t-test Ttest_relResult(statistic=-10.513029090421963, pvalue=2.7748776642668793e-25)\n",
      "z-score 0.21878417201982497\n",
      "baseline below thresh 0.0\n",
      "model below thresh 0.0\n",
      "DISTANCE EXPECTATION MAXIMIZATION\n",
      "0.745021645021645 0.8376623376623377\n",
      "t-test Ttest_relResult(statistic=-10.513029090421963, pvalue=2.7748776642668793e-25)\n",
      "z-score 0.21878417201982497\n",
      "baseline below thresh 0.0\n",
      "model below thresh 0.0\n",
      "MULTIDIMENSIONAL ANNOTATION SCALING\n",
      "0.745021645021645 0.7727272727272727\n",
      "t-test Ttest_relResult(statistic=-2.665564580094283, pvalue=0.0077394704955402885)\n",
      "z-score 0.05547243659323812\n",
      "baseline below thresh 0.0\n",
      "model below thresh 0.0\n",
      "ORACLE\n",
      "0.745021645021645 0.9718614718614719\n",
      "t-test Ttest_relResult(statistic=-26.027765345280436, pvalue=3.5382762274165966e-131)\n",
      "z-score 0.5416576936690389\n",
      "baseline below thresh 0.0\n",
      "model below thresh 0.0\n",
      "\n",
      " ALL\n",
      "ru 0 0.44350233256285276\n",
      "bau -0.3944573582986154 0.4100149231946386\n",
      "sad -0.5454669732110979 0.39468199832251516\n",
      "mas -0.20321592685798623 0.5452817054493235\n",
      "Proper scores\n",
      "MAS 0.3319916530478816\n",
      "SAD 0.33052370859554225\n",
      "BAU 0.3374624514008451\n"
     ]
    },
    {
     "name": "stderr",
     "output_type": "stream",
     "text": [
      "100%|██████████| 462/462 [00:17<00:00, 26.25it/s]\n",
      "100%|██████████| 462/462 [00:09<00:00, 47.43it/s]\n",
      "100%|██████████| 462/462 [00:04<00:00, 94.82it/s]\n",
      "100%|██████████| 462/462 [00:01<00:00, 288.30it/s]\n"
     ]
    },
    {
     "data": {
      "text/plain": "<Figure size 800x400 with 1 Axes>"
     },
     "metadata": {},
     "output_type": "display_data"
    },
    {
     "data": {
      "text/plain": "<Figure size 640x480 with 1 Axes>"
     },
     "metadata": {},
     "output_type": "display_data"
    },
    {
     "data": {
      "text/plain": "<Figure size 640x480 with 1 Axes>"
     },
     "metadata": {},
     "output_type": "display_data"
    },
    {
     "data": {
      "text/plain": "<Figure size 640x480 with 1 Axes>"
     },
     "metadata": {},
     "output_type": "display_data"
    },
    {
     "data": {
      "text/plain": "<Figure size 640x480 with 1 Axes>"
     },
     "metadata": {},
     "output_type": "display_data"
    },
    {
     "data": {
      "text/plain": "<Figure size 640x480 with 1 Axes>"
     },
     "metadata": {},
     "output_type": "display_data"
    },
    {
     "data": {
      "text/plain": "<Figure size 800x400 with 1 Axes>"
     },
     "metadata": {},
     "output_type": "display_data"
    },
    {
     "data": {
      "text/plain": "<Figure size 640x480 with 1 Axes>"
     },
     "metadata": {},
     "output_type": "display_data"
    },
    {
     "data": {
      "text/plain": "<Figure size 640x480 with 1 Axes>"
     },
     "metadata": {},
     "output_type": "display_data"
    },
    {
     "data": {
      "text/plain": "<Figure size 640x480 with 1 Axes>"
     },
     "metadata": {},
     "output_type": "display_data"
    },
    {
     "data": {
      "text/plain": "<Figure size 640x480 with 1 Axes>"
     },
     "metadata": {},
     "output_type": "display_data"
    },
    {
     "data": {
      "text/plain": "<Figure size 640x480 with 1 Axes>"
     },
     "metadata": {},
     "output_type": "display_data"
    },
    {
     "data": {
      "text/plain": "<Figure size 800x400 with 1 Axes>"
     },
     "metadata": {},
     "output_type": "display_data"
    },
    {
     "data": {
      "text/plain": "<Figure size 640x480 with 1 Axes>"
     },
     "metadata": {},
     "output_type": "display_data"
    },
    {
     "data": {
      "text/plain": "<Figure size 640x480 with 1 Axes>"
     },
     "metadata": {},
     "output_type": "display_data"
    },
    {
     "data": {
      "text/plain": "<Figure size 640x480 with 1 Axes>"
     },
     "metadata": {},
     "output_type": "display_data"
    },
    {
     "data": {
      "text/plain": "<Figure size 640x480 with 1 Axes>"
     },
     "metadata": {},
     "output_type": "display_data"
    },
    {
     "data": {
      "text/plain": "<Figure size 640x480 with 1 Axes>"
     },
     "metadata": {},
     "output_type": "display_data"
    },
    {
     "data": {
      "text/plain": "<Figure size 800x400 with 1 Axes>"
     },
     "metadata": {},
     "output_type": "display_data"
    },
    {
     "data": {
      "text/plain": "<Figure size 640x480 with 1 Axes>"
     },
     "metadata": {},
     "output_type": "display_data"
    },
    {
     "data": {
      "text/plain": "<Figure size 640x480 with 1 Axes>"
     },
     "metadata": {},
     "output_type": "display_data"
    },
    {
     "data": {
      "text/plain": "<Figure size 640x480 with 1 Axes>"
     },
     "metadata": {},
     "output_type": "display_data"
    },
    {
     "data": {
      "text/plain": "<Figure size 640x480 with 1 Axes>"
     },
     "metadata": {},
     "output_type": "display_data"
    },
    {
     "data": {
      "text/plain": "<Figure size 640x480 with 1 Axes>"
     },
     "metadata": {},
     "output_type": "display_data"
    }
   ],
   "source": [
    "import itertools\n",
    "\n",
    "import numpy\n",
    "import numpy as np\n",
    "import pandas as pd\n",
    "import sklearn\n",
    "from matplotlib import pyplot as plt\n",
    "from pandas import DataFrame\n",
    "\n",
    "import experiments\n",
    "import utils\n",
    "from granularity import *\n",
    "from sklearn.metrics import f1_score, accuracy_score\n",
    "\n",
    "input_df = pd.read_csv(\"answer_temporal.csv\", sep=\",\")\n",
    "truth_df = pd.read_csv(\"truth_temporal.csv\")\n",
    "\n",
    "annotation_df=DataFrame()\n",
    "grouped_df = input_df.groupby('question')\n",
    "\n",
    "\n",
    "\n",
    "\n",
    "minSamples=(numpy.min(input_df.groupby('question').size()))\n",
    "print(minSamples)\n",
    "dataRed = []\n",
    "accSAD = []\n",
    "accBAU = []\n",
    "accMAS = []\n",
    "w_f1_SAD = []\n",
    "w_f1_BAU = []\n",
    "w_f1_MAS = []\n",
    "m_f1_SAD = []\n",
    "m_f1_BAU = []\n",
    "m_f1_MAS = []\n",
    "abhi=5*5\n",
    "this.\n",
    "\n",
    "\n",
    "def grapher():\n",
    "\n",
    "\n",
    "    for i in range(4):\n",
    "        dataRed.append(int((minSamples-1)-(2*i)))\n",
    "\n",
    "        annotation_df = DataFrame()\n",
    "        for q in grouped_df.groups:\n",
    "            annotation_df = annotation_df.append(grouped_df.get_group(q).sample(int((minSamples-1)-(2*i))))\n",
    "\n",
    "        print(annotation_df)\n",
    "\n",
    "        dist_fn = lambda x, y: abs(x - y)\n",
    "\n",
    "        eval_fn = lambda x, y: abs(1 - dist_fn(x, y))\n",
    "\n",
    "        temporal_exp = experiments.RealExperiment(eval_fn, \"answer\", \"question\", \"worker\", dist_fn)\n",
    "        temporal_exp.setup(annodf=annotation_df, golddf=truth_df, c_anno_uid=\"worker\", c_anno_item=\"question\",\n",
    "                       c_anno_label=\"answer\",\n",
    "                       c_gold_item=\"question\", c_gold_label=\"truth\")\n",
    "\n",
    "        temporal_exp.describe_data()\n",
    "\n",
    "        temporal_exp.train()\n",
    "\n",
    "        temporal_exp.test(debug=True)\n",
    "        _ = temporal_exp.debug(plot_vs_gold=True, skip_miniplots=True)\n",
    "\n",
    "        w_f1_MAS.append(100*f1_score(list(temporal_exp.golddict.values()), list(temporal_exp.mas_preds.values()), average='weighted'))\n",
    "        w_f1_BAU.append(100*f1_score(list(temporal_exp.golddict.values()), list(temporal_exp.bau_preds.values()), average='weighted'))\n",
    "        w_f1_SAD.append(100*f1_score(list(temporal_exp.golddict.values()), list(temporal_exp.sad_preds.values()), average='weighted'))\n",
    "\n",
    "        m_f1_MAS.append(100*f1_score(list(temporal_exp.golddict.values()), list(temporal_exp.mas_preds.values()), average='macro'))\n",
    "        m_f1_BAU.append(100*f1_score(list(temporal_exp.golddict.values()), list(temporal_exp.bau_preds.values()), average='macro'))\n",
    "        m_f1_SAD.append(100*f1_score(list(temporal_exp.golddict.values()), list(temporal_exp.sad_preds.values()), average='macro'))\n",
    "\n",
    "        accMAS.append(100*accuracy_score(list(temporal_exp.golddict.values()), list(temporal_exp.mas_preds.values()), normalize=True))\n",
    "        accBAU.append(100*accuracy_score(list(temporal_exp.golddict.values()), list(temporal_exp.bau_preds.values()), normalize=True))\n",
    "        accSAD.append(100*accuracy_score(list(temporal_exp.golddict.values()), list(temporal_exp.sad_preds.values()), normalize=True))\n",
    "\n",
    "    dataRed.append(1)\n",
    "    annotation_df = input_df.groupby('question').agg(lambda x: x.sample(1))\n",
    "    accBAU.append(100*accuracy_score(truth_df['truth'], annotation_df['answer'], normalize='True'))\n",
    "    accSAD.append(100*accuracy_score(truth_df['truth'], annotation_df['answer'], normalize='True'))\n",
    "    accMAS.append(100*accuracy_score(truth_df['truth'], annotation_df['answer'], normalize='True'))\n",
    "    w_f1_MAS.append(100*f1_score(truth_df['truth'], annotation_df['answer'], average='macro'))\n",
    "    w_f1_SAD.append(100*f1_score(truth_df['truth'], annotation_df['answer'], average='macro'))\n",
    "    w_f1_BAU.append(100*f1_score(truth_df['truth'], annotation_df['answer'], average='macro'))\n",
    "    m_f1_MAS.append(100*f1_score(truth_df['truth'], annotation_df['answer'], average='weighted'))\n",
    "    m_f1_SAD.append(100*f1_score(truth_df['truth'], annotation_df['answer'], average='weighted'))\n",
    "    m_f1_BAU.append(100*f1_score(truth_df['truth'], annotation_df['answer'], average='weighted'))\n",
    "\n",
    "\n",
    "\n",
    "grapher()\n",
    "\n",
    "\n",
    "\n",
    "\n",
    "\n",
    "\n",
    "\n",
    "\n",
    "\n",
    "\n",
    "\n",
    "\n",
    "\n",
    "\n",
    "\n"
   ],
   "metadata": {
    "collapsed": false,
    "pycharm": {
     "name": "#%%\n"
    }
   }
  },
  {
   "cell_type": "code",
   "execution_count": null,
   "outputs": [],
   "source": [
    "\n",
    "plt.plot(np.array(dataRed),np.array(m_f1_SAD),label=\"SAD\",color='r',marker='o')\n",
    "plt.plot(np.array(dataRed),np.array(m_f1_MAS),label=\"MAS\",color='b',marker='*')\n",
    "plt.plot(np.array(dataRed),np.array(m_f1_BAU),label=\"BAU\",color='g',marker='D')\n",
    "\n",
    "plt.fill_between(np.array(dataRed),np.array(m_f1_SAD-np.std(m_f1_SAD)),np.array(m_f1_SAD+np.std(m_f1_SAD)),alpha=0.2,color='r')\n",
    "plt.fill_between(np.array(dataRed),np.array(m_f1_MAS-np.std(m_f1_MAS)),np.array(m_f1_MAS+np.std(m_f1_MAS)),alpha=0.2,color='b')\n",
    "plt.fill_between(np.array(dataRed),np.array(m_f1_BAU-np.std(m_f1_BAU)),np.array(m_f1_BAU+np.std(m_f1_BAU)),alpha=0.2,color='g')\n",
    "\n",
    "\n",
    "plt.title(\"C_Temporal (Macro F1)\")\n",
    "plt.xlabel(\"Data Redundancy (r)\")\n",
    "plt.ylabel(\"Macro_F1 (%)\")\n",
    "plt.legend(bbox_to_anchor=(1.05, 1.0), loc='upper left')\n",
    "plt.tight_layout()\n",
    "plt.savefig('C_Temporal(Macro_F1).png')\n",
    "plt.show()\n",
    "\n"
   ],
   "metadata": {
    "collapsed": false,
    "pycharm": {
     "name": "#%%\n"
    }
   }
  },
  {
   "cell_type": "code",
   "execution_count": 3,
   "outputs": [
    {
     "data": {
      "text/plain": "<Figure size 432x288 with 1 Axes>",
      "image/png": "[encoded data removed]"
     },
     "metadata": {
      "needs_background": "light"
     },
     "output_type": "display_data"
    }
   ],
   "source": [
    "\n",
    "\n",
    "plt.plot(np.array(dataRed),np.array(w_f1_SAD),label=\"SAD\",color='r',marker='o')\n",
    "plt.plot(np.array(dataRed),np.array(w_f1_MAS),label=\"MAS\",color='b',marker='*')\n",
    "plt.plot(np.array(dataRed),np.array(w_f1_BAU),label=\"BAU\",color='g',marker='D')\n",
    "\n",
    "plt.fill_between(np.array(dataRed),np.array(w_f1_SAD-np.std(w_f1_SAD)),np.array(w_f1_SAD+np.std(w_f1_SAD)),alpha=0.2,color='r')\n",
    "plt.fill_between(np.array(dataRed),np.array(w_f1_MAS-np.std(w_f1_MAS)),np.array(w_f1_MAS+np.std(w_f1_MAS)),alpha=0.2,color='b')\n",
    "plt.fill_between(np.array(dataRed),np.array(w_f1_BAU-np.std(w_f1_BAU)),np.array(w_f1_BAU+np.std(w_f1_BAU)),alpha=0.2,color='g')\n",
    "\n",
    "\n",
    "plt.title(\"C_Temporal (Weighted F1)\")\n",
    "plt.xlabel(\"Data Redundancy (r)\")\n",
    "plt.ylabel(\"Weighted_F1 (%)\")\n",
    "plt.legend(bbox_to_anchor=(1.05, 1.0), loc='upper left')\n",
    "plt.tight_layout()\n",
    "plt.savefig('C_Temporal(Weighted_F1).png')\n",
    "plt.show()\n"
   ],
   "metadata": {
    "collapsed": false,
    "pycharm": {
     "name": "#%%\n"
    }
   }
  },
  {
   "cell_type": "code",
   "execution_count": 4,
   "outputs": [
    {
     "data": {
      "text/plain": "<Figure size 432x288 with 1 Axes>",
      "image/png": "[encoded data removed]"
     },
     "metadata": {
      "needs_background": "light"
     },
     "output_type": "display_data"
    }
   ],
   "source": [
    "\n",
    "plt.plot(np.array(dataRed),np.array(accSAD),label=\"SAD\",color='r',marker='o')\n",
    "plt.plot(np.array(dataRed),np.array(accMAS),label=\"MAS\",color='b',marker='*')\n",
    "plt.plot(np.array(dataRed),np.array(accBAU),label=\"BAU\",color='g',marker='D')\n",
    "\n",
    "plt.fill_between(np.array(dataRed),np.array(accSAD-np.std(accSAD)),np.array(accSAD+np.std(accSAD)),alpha=0.2,color='r')\n",
    "plt.fill_between(np.array(dataRed),np.array(accMAS-np.std(accMAS)),np.array(accMAS+np.std(accMAS)),alpha=0.2,color='b')\n",
    "plt.fill_between(np.array(dataRed),np.array(accBAU-np.std(accBAU)),np.array(accBAU+np.std(accBAU)),alpha=0.2,color='g')\n",
    "\n",
    "\n",
    "plt.title(\"C_Temporal (Accuracy)\")\n",
    "plt.xlabel(\"Data Redundancy (r)\")\n",
    "plt.ylabel(\"Accuracy (%)\")\n",
    "plt.legend(bbox_to_anchor=(1.05, 1.0), loc='upper left')\n",
    "plt.tight_layout()\n",
    "plt.savefig('C_Temporal(Accuracy).png')\n",
    "plt.show()\n",
    "\n",
    "\n",
    "\n",
    "\n",
    "\n",
    "\n",
    "\n"
   ],
   "metadata": {
    "collapsed": false,
    "pycharm": {
     "name": "#%%\n"
    }
   }
  }
 ],
 "metadata": {
  "kernelspec": {
   "display_name": "Python 3",
   "language": "python",
   "name": "python3"
  },
  "language_info": {
   "codemirror_mode": {
    "name": "ipython",
    "version": 2
   },
   "file_extension": ".py",
   "mimetype": "text/x-python",
   "name": "python",
   "nbconvert_exporter": "python",
   "pygments_lexer": "ipython2",
   "version": "2.7.6"
  }
 },
 "nbformat": 4,
 "nbformat_minor": 0
}