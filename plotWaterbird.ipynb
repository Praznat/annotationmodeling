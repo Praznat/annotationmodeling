{
 "cells": [
  {
   "cell_type": "code",
   "execution_count": 0,
   "metadata": {
    "collapsed": true
   },
   "outputs": [],
   "source": []
  },
  {
   "cell_type": "code",
   "execution_count": 1,
   "outputs": [
    {
     "name": "stderr",
     "output_type": "stream",
     "text": [
      "100%|██████████| 108/108 [01:16<00:00,  1.42it/s]\n",
      "100%|██████████| 108/108 [00:57<00:00,  1.87it/s]\n",
      "100%|██████████| 108/108 [00:37<00:00,  2.86it/s]\n",
      "100%|██████████| 108/108 [00:25<00:00,  4.18it/s]\n",
      "100%|██████████| 108/108 [00:16<00:00,  6.71it/s]\n",
      "100%|██████████| 108/108 [00:08<00:00, 12.56it/s]\n",
      "100%|██████████| 108/108 [00:03<00:00, 31.27it/s]\n",
      "100%|██████████| 108/108 [00:00<00:00, 171.58it/s]\n"
     ]
    },
    {
     "name": "stdout",
     "output_type": "stream",
     "text": [
      "39\n",
      "      question  worker  answer\n",
      "2052         0      19       0\n",
      "2808         0      26       0\n",
      "3888         0      36       1\n",
      "432          0       4       1\n",
      "1188         0      11       0\n",
      "...        ...     ...     ...\n",
      "1511       107      13       0\n",
      "3671       107      33       0\n",
      "2807       107      25       0\n",
      "755        107       6       1\n",
      "2915       107      26       1\n",
      "\n",
      "[4212 rows x 3 columns]\n",
      "39 & 108 & 4212 & 108.0$\\pm$0.0 & 39.0$\\pm$0.0 & 216\n",
      "Pickled model loaded\n",
      "Pickled model loaded\n",
      "BEST AVAILABLE USER\n",
      "0.6222222222222222 0.7962962962962963\n",
      "t-test Ttest_relResult(statistic=-7.677252176407227, pvalue=7.689885844966477e-14)\n",
      "z-score 0.33068266091015786\n",
      "baseline below thresh 0.0\n",
      "model below thresh 0.0\n",
      "SMALLEST AVERAGE DISTANCE\n",
      "0.6222222222222222 0.7592592592592593\n",
      "t-test Ttest_relResult(statistic=-5.884291678291129, pvalue=7.027274601513471e-09)\n",
      "z-score 0.25345438511561486\n",
      "baseline below thresh 0.0\n",
      "model below thresh 0.0\n",
      "DISTANCE EXPECTATION MAXIMIZATION\n",
      "0.6222222222222222 0.7592592592592593\n",
      "t-test Ttest_relResult(statistic=-5.884291678291129, pvalue=7.027274601513471e-09)\n",
      "z-score 0.25345438511561486\n",
      "baseline below thresh 0.0\n",
      "model below thresh 0.0\n",
      "MULTIDIMENSIONAL ANNOTATION SCALING\n",
      "0.6222222222222222 0.7592592592592593\n",
      "t-test Ttest_relResult(statistic=-5.92192521330886, pvalue=5.671580064829445e-09)\n",
      "z-score 0.2550753762219592\n",
      "baseline below thresh 0.0\n",
      "model below thresh 0.0\n",
      "ORACLE\n",
      "0.6222222222222222 1.0\n",
      "t-test Ttest_relResult(statistic=-18.090052515125542, pvalue=1.638063374727151e-57)\n",
      "z-score 0.7791937224739796\n",
      "baseline below thresh 0.0\n",
      "model below thresh 0.0\n",
      "\n",
      " ALL\n",
      "ru 0 0.4812713544492455\n",
      "bau -0.23529170134394248 0.4692947947956881\n",
      "sad -0.5677900519535027 0.4021274772744551\n",
      "mas -0.5871694270778679 0.3895965000356991\n",
      "Proper scores\n",
      "MAS 0.9252564406049184\n",
      "SAD 0.9250621065582455\n",
      "BAU 0.9252500128707142\n",
      "      question  worker  answer\n",
      "2484         0      23       1\n",
      "108          0       1       1\n",
      "4104         0      38       0\n",
      "3672         0      34       0\n",
      "216          0       2       0\n",
      "...        ...     ...     ...\n",
      "3779       107      34       0\n",
      "1187       107      10       0\n",
      "2807       107      25       0\n",
      "1727       107      15       0\n",
      "2267       107      20       1\n",
      "\n",
      "[3672 rows x 3 columns]\n",
      "39 & 108 & 3672 & 94.15$\\pm$6.58 & 34.0$\\pm$0.0 & 216\n",
      "Pickled model loaded\n",
      "Pickled model loaded\n",
      "BEST AVAILABLE USER\n",
      "0.6296296296296297 0.7592592592592593\n",
      "t-test Ttest_relResult(statistic=-5.512930714537516, pvalue=5.479827021030103e-08)\n",
      "z-score 0.23745873604346543\n",
      "baseline below thresh 0.0\n",
      "model below thresh 0.0\n",
      "SMALLEST AVERAGE DISTANCE\n",
      "0.6296296296296297 0.7592592592592593\n",
      "t-test Ttest_relResult(statistic=-5.9334036262819145, pvalue=5.311480488970337e-09)\n",
      "z-score 0.25556978646897693\n",
      "baseline below thresh 0.0\n",
      "model below thresh 0.0\n",
      "DISTANCE EXPECTATION MAXIMIZATION\n",
      "0.6296296296296297 0.75\n",
      "t-test Ttest_relResult(statistic=-5.42720041094748, pvalue=8.665105843452831e-08)\n",
      "z-score 0.2337660704568237\n",
      "baseline below thresh 0.0\n",
      "model below thresh 0.0\n",
      "MULTIDIMENSIONAL ANNOTATION SCALING\n",
      "0.6296296296296297 0.7592592592592593\n",
      "t-test Ttest_relResult(statistic=-5.9334036262819145, pvalue=5.311480488970337e-09)\n",
      "z-score 0.25556978646897693\n",
      "baseline below thresh 0.0\n",
      "model below thresh 0.0\n",
      "ORACLE\n",
      "0.6296296296296297 1.0\n",
      "t-test Ttest_relResult(statistic=-17.80614566742089, pvalue=4.015335265469104e-56)\n",
      "z-score 0.7669649888473703\n",
      "baseline below thresh 0.0\n",
      "model below thresh 0.0\n",
      "\n",
      " ALL\n",
      "ru 0 0.4811787876046288\n",
      "bau -0.24169298900385183 0.4686902557309857\n",
      "sad -0.5616536807939814 0.4031461158918693\n",
      "mas -0.5875565989052216 0.3893898931658853\n",
      "Proper scores\n",
      "MAS 0.9146168251494667\n",
      "SAD 0.9143836396588022\n",
      "BAU 0.9146029844343169\n",
      "      question  worker  answer\n",
      "2376         0      22       1\n",
      "3564         0      33       0\n",
      "1836         0      17       0\n",
      "1944         0      18       1\n",
      "972          0       9       0\n",
      "...        ...     ...     ...\n",
      "3131       107      28       0\n",
      "3347       107      30       0\n",
      "4211       107      38       0\n",
      "1943       107      17       0\n",
      "4103       107      37       0\n",
      "\n",
      "[3132 rows x 3 columns]\n",
      "39 & 108 & 3132 & 80.31$\\pm$7.14 & 29.0$\\pm$0.0 & 215\n",
      "Pickled model loaded\n",
      "Pickled model loaded\n",
      "BEST AVAILABLE USER\n",
      "0.6240740740740741 0.7592592592592593\n",
      "t-test Ttest_relResult(statistic=-5.675516939063514, pvalue=2.2605123317973603e-08)\n",
      "z-score 0.24446182049584478\n",
      "baseline below thresh 0.0\n",
      "model below thresh 0.0\n",
      "SMALLEST AVERAGE DISTANCE\n",
      "0.6240740740740741 0.7592592592592593\n",
      "t-test Ttest_relResult(statistic=-6.012672633149704, pvalue=3.3669154111191826e-09)\n",
      "z-score 0.25898414430384137\n",
      "baseline below thresh 0.0\n",
      "model below thresh 0.0\n",
      "DISTANCE EXPECTATION MAXIMIZATION\n",
      "0.6240740740740741 0.7685185185185185\n",
      "t-test Ttest_relResult(statistic=-6.389810074835537, pvalue=3.595765354137484e-10)\n",
      "z-score 0.27522860389431475\n",
      "baseline below thresh 0.0\n",
      "model below thresh 0.0\n",
      "MULTIDIMENSIONAL ANNOTATION SCALING\n",
      "0.6240740740740741 0.7592592592592593\n",
      "t-test Ttest_relResult(statistic=-5.932570296868324, pvalue=5.33685474102434e-09)\n",
      "z-score 0.25553389243012437\n",
      "baseline below thresh 0.0\n",
      "model below thresh 0.0\n",
      "ORACLE\n",
      "0.6240740740740741 1.0\n",
      "t-test Ttest_relResult(statistic=-18.01886581398929, pvalue=3.657720203247278e-57)\n",
      "z-score 0.7761274941917444\n",
      "baseline below thresh 0.0\n",
      "model below thresh 0.0\n",
      "\n",
      " ALL\n",
      "ru 0 0.48059861602642606\n",
      "bau -0.23114460630484157 0.46869849771522104\n",
      "sad -0.5532364381870064 0.40400325088955447\n",
      "mas -0.5645726470744493 0.3971653239221022\n",
      "Proper scores\n",
      "MAS 0.9006417463344872\n",
      "SAD 0.9001936066372644\n",
      "BAU 0.9003944963553833\n",
      "      question  worker  answer\n",
      "2376         0      22       1\n",
      "3456         0      32       0\n",
      "2052         0      19       0\n",
      "3780         0      35       0\n",
      "3672         0      34       0\n",
      "...        ...     ...     ...\n",
      "3779       107      34       0\n",
      "3239       107      29       0\n",
      "2483       107      22       1\n",
      "3887       107      35       0\n",
      "3671       107      33       0\n",
      "\n",
      "[2592 rows x 3 columns]\n",
      "39 & 108 & 2592 & 66.46$\\pm$11.34 & 24.0$\\pm$0.0 & 215\n",
      "Pickled model loaded\n",
      "Pickled model loaded\n",
      "BEST AVAILABLE USER\n",
      "0.6555555555555556 0.7592592592592593\n",
      "t-test Ttest_relResult(statistic=-4.314019433753123, pvalue=1.9072312835111826e-05)\n",
      "z-score 0.18581797142935805\n",
      "baseline below thresh 0.0\n",
      "model below thresh 0.0\n",
      "SMALLEST AVERAGE DISTANCE\n",
      "0.6555555555555556 0.75\n",
      "t-test Ttest_relResult(statistic=-4.1034482758620685, pvalue=4.7003397796047015e-05)\n",
      "z-score 0.17674802958006833\n",
      "baseline below thresh 0.0\n",
      "model below thresh 0.0\n",
      "DISTANCE EXPECTATION MAXIMIZATION\n",
      "0.6555555555555556 0.7314814814814815\n",
      "t-test Ttest_relResult(statistic=-3.2807743297735312, pvalue=0.0011021653944314508)\n",
      "z-score 0.14131295420374695\n",
      "baseline below thresh 0.0\n",
      "model below thresh 0.0\n",
      "MULTIDIMENSIONAL ANNOTATION SCALING\n",
      "0.6555555555555556 0.7314814814814815\n",
      "t-test Ttest_relResult(statistic=-3.2807743297735312, pvalue=0.0011021653944314508)\n",
      "z-score 0.14131295420374695\n",
      "baseline below thresh 0.0\n",
      "model below thresh 0.0\n",
      "ORACLE\n",
      "0.6555555555555556 1.0\n",
      "t-test Ttest_relResult(statistic=-16.828647890740015, pvalue=2.1985219709171185e-51)\n",
      "z-score 0.7248611789946812\n",
      "baseline below thresh 0.0\n",
      "model below thresh 0.0\n",
      "\n",
      " ALL\n",
      "ru 0 0.48227654263943515\n",
      "bau -0.22861396617957946 0.4705264570236367\n",
      "sad -0.5512080215070131 0.40656315607143795\n",
      "mas -0.5474018362628197 0.4043027925730696\n",
      "Proper scores\n",
      "MAS 0.8809722826079717\n",
      "SAD 0.880275467251815\n",
      "BAU 0.8806728944027203\n",
      "      question  worker  answer\n",
      "2160         0      20       0\n",
      "3888         0      36       1\n",
      "756          0       7       0\n",
      "972          0       9       0\n",
      "3564         0      33       0\n",
      "...        ...     ...     ...\n",
      "3887       107      35       0\n",
      "3131       107      28       0\n",
      "2051       107      18       0\n",
      "647        107       5       1\n",
      "1295       107      11       0\n",
      "\n",
      "[2052 rows x 3 columns]\n",
      "39 & 108 & 2052 & 52.62$\\pm$9.1 & 19.0$\\pm$0.0 & 214\n",
      "Pickled model loaded\n",
      "Pickled model loaded\n",
      "BEST AVAILABLE USER\n",
      "0.5851851851851851 0.7777777777777778\n",
      "t-test Ttest_relResult(statistic=-8.164189081173404, pvalue=2.30423025620056e-15)\n",
      "z-score 0.3516565181788128\n",
      "baseline below thresh 0.0\n",
      "model below thresh 0.0\n",
      "SMALLEST AVERAGE DISTANCE\n",
      "0.5851851851851851 0.7777777777777778\n",
      "t-test Ttest_relResult(statistic=-8.373601033329145, pvalue=4.849607627689394e-16)\n",
      "z-score 0.3606765295024031\n",
      "baseline below thresh 0.0\n",
      "model below thresh 0.0\n",
      "DISTANCE EXPECTATION MAXIMIZATION\n",
      "0.5851851851851851 0.7777777777777778\n",
      "t-test Ttest_relResult(statistic=-8.373601033329145, pvalue=4.849607627689394e-16)\n",
      "z-score 0.3606765295024031\n",
      "baseline below thresh 0.0\n",
      "model below thresh 0.0\n",
      "MULTIDIMENSIONAL ANNOTATION SCALING\n",
      "0.5851851851851851 0.7777777777777778\n",
      "t-test Ttest_relResult(statistic=-8.428521151710735, pvalue=3.2069599713852884e-16)\n",
      "z-score 0.36304210646491775\n",
      "baseline below thresh 0.0\n",
      "model below thresh 0.0\n",
      "ORACLE\n",
      "0.5851851851851851 1.0\n",
      "t-test Ttest_relResult(statistic=-19.54676314296279, pvalue=1.0266972463735729e-64)\n",
      "z-score 0.8419386910539691\n",
      "baseline below thresh 0.0\n",
      "model below thresh 0.0\n",
      "\n",
      " ALL\n",
      "ru 0 0.48170511770125335\n",
      "bau -0.21032838179865657 0.4718016603976673\n",
      "sad -0.5269010718910382 0.4109842991481892\n",
      "mas -0.5589627142511562 0.39979045228683485\n",
      "Proper scores\n",
      "MAS 0.8516592447233168\n",
      "SAD 0.8507223871320015\n",
      "BAU 0.8509087296657841\n",
      "      question  worker  answer\n",
      "1836         0      17       0\n",
      "1080         0      10       1\n",
      "2916         0      27       0\n",
      "3780         0      35       0\n",
      "3456         0      32       0\n",
      "...        ...     ...     ...\n",
      "2807       107      25       0\n",
      "1187       107      10       0\n",
      "647        107       5       1\n",
      "3239       107      29       0\n",
      "2159       107      19       0\n",
      "\n",
      "[1512 rows x 3 columns]\n",
      "39 & 108 & 1512 & 38.77$\\pm$9.86 & 14.0$\\pm$0.0 & 208\n",
      "Pickled model loaded\n",
      "Pickled model loaded\n",
      "BEST AVAILABLE USER\n",
      "0.6222222222222222 0.7685185185185185\n",
      "t-test Ttest_relResult(statistic=-6.330522816243935, pvalue=5.148827999826121e-10)\n",
      "z-score 0.27267492088656003\n",
      "baseline below thresh 0.0\n",
      "model below thresh 0.0\n",
      "SMALLEST AVERAGE DISTANCE\n",
      "0.6222222222222222 0.75\n",
      "t-test Ttest_relResult(statistic=-5.663004588115817, pvalue=2.421770249026599e-08)\n",
      "z-score 0.24392287538754923\n",
      "baseline below thresh 0.0\n",
      "model below thresh 0.0\n",
      "DISTANCE EXPECTATION MAXIMIZATION\n",
      "0.6222222222222222 0.7407407407407407\n",
      "t-test Ttest_relResult(statistic=-5.112561370376375, pvalue=4.4222072962775226e-07)\n",
      "z-score 0.2202136075740735\n",
      "baseline below thresh 0.0\n",
      "model below thresh 0.0\n",
      "MULTIDIMENSIONAL ANNOTATION SCALING\n",
      "0.6222222222222222 0.7222222222222222\n",
      "t-test Ttest_relResult(statistic=-4.106490919375741, pvalue=4.640740564993337e-05)\n",
      "z-score 0.17687908551390805\n",
      "baseline below thresh 0.0\n",
      "model below thresh 0.0\n",
      "ORACLE\n",
      "0.6222222222222222 1.0\n",
      "t-test Ttest_relResult(statistic=-18.090052515125542, pvalue=1.638063374727151e-57)\n",
      "z-score 0.7791937224739796\n",
      "baseline below thresh 0.0\n",
      "model below thresh 0.0\n",
      "\n",
      " ALL\n",
      "ru 0 0.4829038818668629\n",
      "bau -0.24149967021431962 0.4701036266384445\n",
      "sad -0.4791977581720109 0.42385199035493487\n",
      "mas -0.4904721409452448 0.42517289166367705\n",
      "Proper scores\n",
      "MAS 0.8048781198098061\n",
      "SAD 0.8021668533202223\n",
      "BAU 0.8008602951780468\n",
      "      question  worker  answer\n",
      "540          0       5       0\n",
      "1080         0      10       1\n",
      "3564         0      33       0\n",
      "1188         0      11       0\n",
      "3996         0      37       0\n",
      "...        ...     ...     ...\n",
      "863        107       7       0\n",
      "2915       107      26       1\n",
      "1943       107      17       0\n",
      "107        107       0       0\n",
      "1727       107      15       0\n",
      "\n",
      "[972 rows x 3 columns]\n",
      "39 & 108 & 972 & 24.92$\\pm$8.6 & 9.0$\\pm$0.0 & 191\n",
      "Pickled model loaded\n",
      "Pickled model loaded\n",
      "BEST AVAILABLE USER\n",
      "0.6314814814814815 0.7962962962962963\n",
      "t-test Ttest_relResult(statistic=-7.204314715818753, pvalue=1.976350237132957e-12)\n",
      "z-score 0.31031180238969736\n",
      "baseline below thresh 0.0\n",
      "model below thresh 0.0\n",
      "SMALLEST AVERAGE DISTANCE\n",
      "0.6314814814814815 0.7962962962962963\n",
      "t-test Ttest_relResult(statistic=-7.506024096385542, pvalue=2.5378065036103877e-13)\n",
      "z-score 0.323307345390614\n",
      "baseline below thresh 0.0\n",
      "model below thresh 0.0\n",
      "DISTANCE EXPECTATION MAXIMIZATION\n",
      "0.6314814814814815 0.7870370370370371\n",
      "t-test Ttest_relResult(statistic=-7.019562217926649, pvalue=6.72126955952367e-12)\n",
      "z-score 0.30235394895347606\n",
      "baseline below thresh 0.0\n",
      "model below thresh 0.0\n",
      "MULTIDIMENSIONAL ANNOTATION SCALING\n",
      "0.6314814814814815 0.7592592592592593\n",
      "t-test Ttest_relResult(statistic=-5.781256623296918, pvalue=1.2563584126991485e-08)\n",
      "z-score 0.24901635111990789\n",
      "baseline below thresh 0.0\n",
      "model below thresh 0.0\n",
      "ORACLE\n",
      "0.6314814814814815 0.9907407407407407\n",
      "t-test Ttest_relResult(statistic=-17.384299607184925, pvalue=4.5468480681416695e-54)\n",
      "z-score 0.7487947927292877\n",
      "baseline below thresh 0.0\n",
      "model below thresh 0.0\n",
      "\n",
      " ALL\n",
      "ru 0 0.4809128839871025\n",
      "bau -0.2587858220715553 0.4678281431521892\n",
      "sad -0.4797909912328229 0.4222497526802161\n",
      "mas -0.5497279606248084 0.4024844088633314\n",
      "Proper scores\n",
      "MAS 0.7100160801037965\n",
      "SAD 0.705600936123448\n",
      "BAU 0.7033965086834306\n",
      "      question  worker  answer\n",
      "756          0       7       0\n",
      "1512         0      14       0\n",
      "1296         0      12       1\n",
      "2700         0      25       1\n",
      "2377         1      22       1\n",
      "...        ...     ...     ...\n",
      "1294       106      11       1\n",
      "863        107       7       0\n",
      "2375       107      21       0\n",
      "3455       107      31       0\n",
      "2591       107      23       0\n",
      "\n",
      "[432 rows x 3 columns]\n",
      "39 & 108 & 432 & 11.08$\\pm$6.38 & 4.0$\\pm$0.0 & 134\n",
      "Pickled model loaded\n",
      "Pickled model loaded\n",
      "BEST AVAILABLE USER\n",
      "0.6111111111111112 0.6296296296296297\n",
      "t-test Ttest_relResult(statistic=-0.8330972281201134, pvalue=0.40515889719987375)\n",
      "z-score 0.0358840379163576\n",
      "baseline below thresh 0.0\n",
      "model below thresh 0.0\n",
      "SMALLEST AVERAGE DISTANCE\n",
      "0.6111111111111112 0.6296296296296297\n",
      "t-test Ttest_relResult(statistic=-0.8701926099553503, pvalue=0.38458252158719697)\n",
      "z-score 0.037481849124181586\n",
      "baseline below thresh 0.0\n",
      "model below thresh 0.0\n",
      "DISTANCE EXPECTATION MAXIMIZATION\n",
      "0.6111111111111112 0.6574074074074074\n",
      "t-test Ttest_relResult(statistic=-2.175252337853706, pvalue=0.030045110519442773)\n",
      "z-score 0.09369475102602781\n",
      "baseline below thresh 0.0\n",
      "model below thresh 0.0\n",
      "MULTIDIMENSIONAL ANNOTATION SCALING\n",
      "0.6111111111111112 0.6759259259259259\n",
      "t-test Ttest_relResult(statistic=-2.708050397952321, pvalue=0.006982950657584235)\n",
      "z-score 0.11664398809585029\n",
      "baseline below thresh 0.0\n",
      "model below thresh 0.0\n",
      "ORACLE\n",
      "0.6111111111111112 0.9629629629629629\n",
      "t-test Ttest_relResult(statistic=-17.10555465338672, pvalue=1.0174605019709029e-52)\n",
      "z-score 0.7367883976130074\n",
      "baseline below thresh 0.0\n",
      "model below thresh 0.0\n",
      "\n",
      " ALL\n",
      "ru 0 0.48696463868318646\n",
      "bau -0.17467199533263494 0.4796221630650429\n",
      "sad -0.30827011766978796 0.4936432672652011\n",
      "mas -0.17906364052771964 0.5406194125571105\n",
      "Proper scores\n",
      "MAS 0.4395479754284396\n",
      "SAD 0.45381622942386834\n",
      "BAU 0.4390687032287311\n"
     ]
    },
    {
     "data": {
      "text/plain": "<Figure size 800x400 with 1 Axes>"
     },
     "metadata": {},
     "output_type": "display_data"
    },
    {
     "data": {
      "text/plain": "<Figure size 640x480 with 1 Axes>"
     },
     "metadata": {},
     "output_type": "display_data"
    },
    {
     "data": {
      "text/plain": "<Figure size 640x480 with 1 Axes>"
     },
     "metadata": {},
     "output_type": "display_data"
    },
    {
     "data": {
      "text/plain": "<Figure size 640x480 with 1 Axes>"
     },
     "metadata": {},
     "output_type": "display_data"
    },
    {
     "data": {
      "text/plain": "<Figure size 640x480 with 1 Axes>"
     },
     "metadata": {},
     "output_type": "display_data"
    },
    {
     "data": {
      "text/plain": "<Figure size 640x480 with 1 Axes>"
     },
     "metadata": {},
     "output_type": "display_data"
    },
    {
     "data": {
      "text/plain": "<Figure size 800x400 with 1 Axes>"
     },
     "metadata": {},
     "output_type": "display_data"
    },
    {
     "data": {
      "text/plain": "<Figure size 640x480 with 1 Axes>"
     },
     "metadata": {},
     "output_type": "display_data"
    },
    {
     "data": {
      "text/plain": "<Figure size 640x480 with 1 Axes>"
     },
     "metadata": {},
     "output_type": "display_data"
    },
    {
     "data": {
      "text/plain": "<Figure size 640x480 with 1 Axes>"
     },
     "metadata": {},
     "output_type": "display_data"
    },
    {
     "data": {
      "text/plain": "<Figure size 640x480 with 1 Axes>"
     },
     "metadata": {},
     "output_type": "display_data"
    },
    {
     "data": {
      "text/plain": "<Figure size 640x480 with 1 Axes>"
     },
     "metadata": {},
     "output_type": "display_data"
    },
    {
     "data": {
      "text/plain": "<Figure size 800x400 with 1 Axes>"
     },
     "metadata": {},
     "output_type": "display_data"
    },
    {
     "data": {
      "text/plain": "<Figure size 640x480 with 1 Axes>"
     },
     "metadata": {},
     "output_type": "display_data"
    },
    {
     "data": {
      "text/plain": "<Figure size 640x480 with 1 Axes>"
     },
     "metadata": {},
     "output_type": "display_data"
    },
    {
     "data": {
      "text/plain": "<Figure size 640x480 with 1 Axes>"
     },
     "metadata": {},
     "output_type": "display_data"
    },
    {
     "data": {
      "text/plain": "<Figure size 640x480 with 1 Axes>"
     },
     "metadata": {},
     "output_type": "display_data"
    },
    {
     "data": {
      "text/plain": "<Figure size 640x480 with 1 Axes>"
     },
     "metadata": {},
     "output_type": "display_data"
    },
    {
     "data": {
      "text/plain": "<Figure size 800x400 with 1 Axes>"
     },
     "metadata": {},
     "output_type": "display_data"
    },
    {
     "data": {
      "text/plain": "<Figure size 640x480 with 1 Axes>"
     },
     "metadata": {},
     "output_type": "display_data"
    },
    {
     "data": {
      "text/plain": "<Figure size 640x480 with 1 Axes>"
     },
     "metadata": {},
     "output_type": "display_data"
    },
    {
     "data": {
      "text/plain": "<Figure size 640x480 with 1 Axes>"
     },
     "metadata": {},
     "output_type": "display_data"
    },
    {
     "data": {
      "text/plain": "<Figure size 640x480 with 1 Axes>"
     },
     "metadata": {},
     "output_type": "display_data"
    },
    {
     "data": {
      "text/plain": "<Figure size 640x480 with 1 Axes>"
     },
     "metadata": {},
     "output_type": "display_data"
    },
    {
     "data": {
      "text/plain": "<Figure size 800x400 with 1 Axes>"
     },
     "metadata": {},
     "output_type": "display_data"
    },
    {
     "data": {
      "text/plain": "<Figure size 640x480 with 1 Axes>"
     },
     "metadata": {},
     "output_type": "display_data"
    },
    {
     "data": {
      "text/plain": "<Figure size 640x480 with 1 Axes>"
     },
     "metadata": {},
     "output_type": "display_data"
    },
    {
     "data": {
      "text/plain": "<Figure size 640x480 with 1 Axes>"
     },
     "metadata": {},
     "output_type": "display_data"
    },
    {
     "data": {
      "text/plain": "<Figure size 640x480 with 1 Axes>"
     },
     "metadata": {},
     "output_type": "display_data"
    },
    {
     "data": {
      "text/plain": "<Figure size 640x480 with 1 Axes>"
     },
     "metadata": {},
     "output_type": "display_data"
    },
    {
     "data": {
      "text/plain": "<Figure size 800x400 with 1 Axes>"
     },
     "metadata": {},
     "output_type": "display_data"
    },
    {
     "data": {
      "text/plain": "<Figure size 640x480 with 1 Axes>"
     },
     "metadata": {},
     "output_type": "display_data"
    },
    {
     "data": {
      "text/plain": "<Figure size 640x480 with 1 Axes>"
     },
     "metadata": {},
     "output_type": "display_data"
    },
    {
     "data": {
      "text/plain": "<Figure size 640x480 with 1 Axes>"
     },
     "metadata": {},
     "output_type": "display_data"
    },
    {
     "data": {
      "text/plain": "<Figure size 640x480 with 1 Axes>"
     },
     "metadata": {},
     "output_type": "display_data"
    },
    {
     "data": {
      "text/plain": "<Figure size 640x480 with 1 Axes>"
     },
     "metadata": {},
     "output_type": "display_data"
    },
    {
     "data": {
      "text/plain": "<Figure size 800x400 with 1 Axes>"
     },
     "metadata": {},
     "output_type": "display_data"
    },
    {
     "data": {
      "text/plain": "<Figure size 640x480 with 1 Axes>"
     },
     "metadata": {},
     "output_type": "display_data"
    },
    {
     "data": {
      "text/plain": "<Figure size 640x480 with 1 Axes>"
     },
     "metadata": {},
     "output_type": "display_data"
    },
    {
     "data": {
      "text/plain": "<Figure size 640x480 with 1 Axes>"
     },
     "metadata": {},
     "output_type": "display_data"
    },
    {
     "data": {
      "text/plain": "<Figure size 640x480 with 1 Axes>"
     },
     "metadata": {},
     "output_type": "display_data"
    },
    {
     "data": {
      "text/plain": "<Figure size 640x480 with 1 Axes>"
     },
     "metadata": {},
     "output_type": "display_data"
    },
    {
     "data": {
      "text/plain": "<Figure size 800x400 with 1 Axes>"
     },
     "metadata": {},
     "output_type": "display_data"
    },
    {
     "data": {
      "text/plain": "<Figure size 640x480 with 1 Axes>"
     },
     "metadata": {},
     "output_type": "display_data"
    },
    {
     "data": {
      "text/plain": "<Figure size 640x480 with 1 Axes>"
     },
     "metadata": {},
     "output_type": "display_data"
    },
    {
     "data": {
      "text/plain": "<Figure size 640x480 with 1 Axes>"
     },
     "metadata": {},
     "output_type": "display_data"
    },
    {
     "data": {
      "text/plain": "<Figure size 640x480 with 1 Axes>"
     },
     "metadata": {},
     "output_type": "display_data"
    },
    {
     "data": {
      "text/plain": "<Figure size 640x480 with 1 Axes>"
     },
     "metadata": {},
     "output_type": "display_data"
    }
   ],
   "source": [
    "\n",
    "import itertools\n",
    "\n",
    "import numpy\n",
    "import numpy as np\n",
    "import pandas as pd\n",
    "import sklearn\n",
    "from matplotlib import pyplot as plt\n",
    "from pandas import DataFrame\n",
    "\n",
    "import experiments\n",
    "import utils\n",
    "from granularity import *\n",
    "from sklearn.metrics import f1_score, accuracy_score\n",
    "\n",
    "input_df = pd.read_csv(\"answer_waterbird.csv\", sep=\",\")\n",
    "truth_df = pd.read_csv(\"truth_waterbird.csv\")\n",
    "\n",
    "annotation_df=DataFrame()\n",
    "grouped_df = input_df.groupby('question')\n",
    "\n",
    "\n",
    "\n",
    "\n",
    "minSamples=(numpy.min(input_df.groupby('question').size()))\n",
    "print(minSamples)\n",
    "dataRed = []\n",
    "accSAD = []\n",
    "accBAU = []\n",
    "accMAS = []\n",
    "w_f1_SAD = []\n",
    "w_f1_BAU = []\n",
    "w_f1_MAS = []\n",
    "m_f1_SAD = []\n",
    "m_f1_BAU = []\n",
    "m_f1_MAS = []\n",
    "\n",
    "\n",
    "\n",
    "def grapher():\n",
    "\n",
    "\n",
    "    for i in range(8):\n",
    "        dataRed.append(int((minSamples)-(5*i)))\n",
    "\n",
    "        annotation_df = DataFrame()\n",
    "        for q in grouped_df.groups:\n",
    "            annotation_df = annotation_df.append(grouped_df.get_group(q).sample(int((minSamples)-(5*i))))\n",
    "\n",
    "        print(annotation_df)\n",
    "\n",
    "        dist_fn = lambda x, y: abs(x - y)\n",
    "\n",
    "        eval_fn = lambda x, y: abs(1 - dist_fn(x, y))\n",
    "\n",
    "        waterbird_exp = experiments.RealExperiment(eval_fn, \"answer\", \"question\", \"worker\", dist_fn)\n",
    "        waterbird_exp.setup(annodf=annotation_df, golddf=truth_df, c_anno_uid=\"worker\", c_anno_item=\"question\",\n",
    "                       c_anno_label=\"answer\",\n",
    "                       c_gold_item=\"question\", c_gold_label=\"truth\")\n",
    "\n",
    "        waterbird_exp.describe_data()\n",
    "\n",
    "        waterbird_exp.train()\n",
    "\n",
    "        waterbird_exp.test(debug=True)\n",
    "        _ = waterbird_exp.debug(plot_vs_gold=True, skip_miniplots=True)\n",
    "\n",
    "        w_f1_MAS.append(100*f1_score(list(waterbird_exp.golddict.values()), list(waterbird_exp.mas_preds.values()), average='weighted'))\n",
    "        w_f1_BAU.append(100*f1_score(list(waterbird_exp.golddict.values()), list(waterbird_exp.bau_preds.values()), average='weighted'))\n",
    "        w_f1_SAD.append(100*f1_score(list(waterbird_exp.golddict.values()), list(waterbird_exp.sad_preds.values()), average='weighted'))\n",
    "\n",
    "        m_f1_MAS.append(100*f1_score(list(waterbird_exp.golddict.values()), list(waterbird_exp.mas_preds.values()), average='macro'))\n",
    "        m_f1_BAU.append(100*f1_score(list(waterbird_exp.golddict.values()), list(waterbird_exp.bau_preds.values()), average='macro'))\n",
    "        m_f1_SAD.append(100*f1_score(list(waterbird_exp.golddict.values()), list(waterbird_exp.sad_preds.values()), average='macro'))\n",
    "\n",
    "        accMAS.append(100*accuracy_score(list(waterbird_exp.golddict.values()), list(waterbird_exp.mas_preds.values()), normalize=True))\n",
    "        accBAU.append(100*accuracy_score(list(waterbird_exp.golddict.values()), list(waterbird_exp.bau_preds.values()), normalize=True))\n",
    "        accSAD.append(100*accuracy_score(list(waterbird_exp.golddict.values()), list(waterbird_exp.sad_preds.values()), normalize=True))\n",
    "\n",
    "    dataRed.append(1)\n",
    "    annotation_df = input_df.groupby('question').agg(lambda x: x.sample(1))\n",
    "    accBAU.append(100*accuracy_score(truth_df['truth'], annotation_df['answer'], normalize='True'))\n",
    "    accSAD.append(100*accuracy_score(truth_df['truth'], annotation_df['answer'], normalize='True'))\n",
    "    accMAS.append(100*accuracy_score(truth_df['truth'], annotation_df['answer'], normalize='True'))\n",
    "    w_f1_MAS.append(100*f1_score(truth_df['truth'], annotation_df['answer'], average='macro'))\n",
    "    w_f1_SAD.append(100*f1_score(truth_df['truth'], annotation_df['answer'], average='macro'))\n",
    "    w_f1_BAU.append(100*f1_score(truth_df['truth'], annotation_df['answer'], average='macro'))\n",
    "    m_f1_MAS.append(100*f1_score(truth_df['truth'], annotation_df['answer'], average='weighted'))\n",
    "    m_f1_SAD.append(100*f1_score(truth_df['truth'], annotation_df['answer'], average='weighted'))\n",
    "    m_f1_BAU.append(100*f1_score(truth_df['truth'], annotation_df['answer'], average='weighted'))\n",
    "\n",
    "\n",
    "\n",
    "grapher()\n",
    "\n",
    "\n",
    "\n",
    "\n",
    "\n",
    "\n",
    "\n",
    "\n",
    "\n",
    "\n",
    "\n",
    "\n",
    "\n",
    "\n",
    "\n",
    "\n",
    "\n"
   ],
   "metadata": {
    "collapsed": false,
    "pycharm": {
     "name": "#%%\n"
    }
   }
  },
  {
   "cell_type": "code",
   "execution_count": 2,
   "outputs": [
    {
     "data": {
      "text/plain": "<Figure size 432x288 with 1 Axes>",
      "image/png": "[encoded data removed]"
     },
     "metadata": {
      "needs_background": "light"
     },
     "output_type": "display_data"
    }
   ],
   "source": [
    "\n",
    "\n",
    "plt.plot(np.array(dataRed),np.array(m_f1_SAD),label=\"SAD\",color='r',marker='o')\n",
    "plt.plot(np.array(dataRed),np.array(m_f1_MAS),label=\"MAS\",color='b',marker='*')\n",
    "plt.plot(np.array(dataRed),np.array(m_f1_BAU),label=\"BAU\",color='g',marker='D')\n",
    "\n",
    "plt.fill_between(np.array(dataRed),np.array(m_f1_SAD-np.std(m_f1_SAD)),np.array(m_f1_SAD+np.std(m_f1_SAD)),alpha=0.2,color='r')\n",
    "plt.fill_between(np.array(dataRed),np.array(m_f1_MAS-np.std(m_f1_MAS)),np.array(m_f1_MAS+np.std(m_f1_MAS)),alpha=0.2,color='b')\n",
    "plt.fill_between(np.array(dataRed),np.array(m_f1_BAU-np.std(m_f1_BAU)),np.array(m_f1_BAU+np.std(m_f1_BAU)),alpha=0.2,color='g')\n",
    "\n",
    "\n",
    "plt.title(\"C_Waterbird (Macro F1)\")\n",
    "plt.xlabel(\"Data Redundancy (r)\")\n",
    "plt.ylabel(\"Macro_F1 (%)\")\n",
    "plt.legend(bbox_to_anchor=(1.05, 1.0), loc='upper left')\n",
    "plt.tight_layout()\n",
    "plt.savefig('C_Waterbird(Macro_F1).png')\n",
    "plt.show()\n",
    "\n",
    "\n",
    "\n"
   ],
   "metadata": {
    "collapsed": false,
    "pycharm": {
     "name": "#%%\n"
    }
   }
  },
  {
   "cell_type": "code",
   "execution_count": 3,
   "outputs": [
    {
     "data": {
      "text/plain": "<Figure size 432x288 with 1 Axes>",
      "image/png": "[encoded data removed]"
     },
     "metadata": {
      "needs_background": "light"
     },
     "output_type": "display_data"
    }
   ],
   "source": [
    "\n",
    "\n",
    "\n",
    "plt.plot(np.array(dataRed),np.array(w_f1_SAD),label=\"SAD\",color='r',marker='o')\n",
    "plt.plot(np.array(dataRed),np.array(w_f1_MAS),label=\"MAS\",color='b',marker='*')\n",
    "plt.plot(np.array(dataRed),np.array(w_f1_BAU),label=\"BAU\",color='g',marker='D')\n",
    "\n",
    "plt.fill_between(np.array(dataRed),np.array(w_f1_SAD-np.std(w_f1_SAD)),np.array(w_f1_SAD+np.std(w_f1_SAD)),alpha=0.2,color='r')\n",
    "plt.fill_between(np.array(dataRed),np.array(w_f1_MAS-np.std(w_f1_MAS)),np.array(w_f1_MAS+np.std(w_f1_MAS)),alpha=0.2,color='b')\n",
    "plt.fill_between(np.array(dataRed),np.array(w_f1_BAU-np.std(w_f1_BAU)),np.array(w_f1_BAU+np.std(w_f1_BAU)),alpha=0.2,color='g')\n",
    "\n",
    "\n",
    "plt.title(\"C_Waterbird (Weighted F1)\")\n",
    "plt.xlabel(\"Data Redundancy (r)\")\n",
    "plt.ylabel(\"Weighted_F1 (%)\")\n",
    "plt.legend(bbox_to_anchor=(1.05, 1.0), loc='upper left')\n",
    "plt.tight_layout()\n",
    "plt.savefig('C_Waterbird(Weighted_F1).png')\n",
    "plt.show()\n",
    "\n",
    "\n"
   ],
   "metadata": {
    "collapsed": false,
    "pycharm": {
     "name": "#%%\n"
    }
   }
  },
  {
   "cell_type": "code",
   "execution_count": 4,
   "outputs": [
    {
     "data": {
      "text/plain": "<Figure size 432x288 with 1 Axes>",
      "image/png": "[encoded data removed]"
     },
     "metadata": {
      "needs_background": "light"
     },
     "output_type": "display_data"
    }
   ],
   "source": [
    "\n",
    "\n",
    "plt.plot(np.array(dataRed),np.array(accSAD),label=\"SAD\",color='r',marker='o')\n",
    "plt.plot(np.array(dataRed),np.array(accMAS),label=\"MAS\",color='b',marker='*')\n",
    "plt.plot(np.array(dataRed),np.array(accBAU),label=\"BAU\",color='g',marker='D')\n",
    "\n",
    "plt.fill_between(np.array(dataRed),np.array(accSAD-np.std(accSAD)),np.array(accSAD+np.std(accSAD)),alpha=0.2,color='r')\n",
    "plt.fill_between(np.array(dataRed),np.array(accMAS-np.std(accMAS)),np.array(accMAS+np.std(accMAS)),alpha=0.2,color='b')\n",
    "plt.fill_between(np.array(dataRed),np.array(accBAU-np.std(accBAU)),np.array(accBAU+np.std(accBAU)),alpha=0.2,color='g')\n",
    "\n",
    "\n",
    "plt.title(\"C_Waterbird (Accuracy)\")\n",
    "plt.xlabel(\"Data Redundancy (r)\")\n",
    "plt.ylabel(\"Accuracy (%)\")\n",
    "plt.legend(bbox_to_anchor=(1.05, 1.0), loc='upper left')\n",
    "plt.tight_layout()\n",
    "plt.savefig('C_Waterbird(Accuracy).png')\n",
    "plt.show()\n",
    "\n",
    "\n",
    "\n",
    "\n",
    "\n",
    "\n",
    "\n",
    "\n",
    "\n",
    "\n",
    "\n"
   ],
   "metadata": {
    "collapsed": false,
    "pycharm": {
     "name": "#%%\n"
    }
   }
  }
 ],
 "metadata": {
  "kernelspec": {
   "display_name": "Python 3",
   "language": "python",
   "name": "python3"
  },
  "language_info": {
   "codemirror_mode": {
    "name": "ipython",
    "version": 2
   },
   "file_extension": ".py",
   "mimetype": "text/x-python",
   "name": "python",
   "nbconvert_exporter": "python",
   "pygments_lexer": "ipython2",
   "version": "2.7.6"
  }
 },
 "nbformat": 4,
 "nbformat_minor": 0
}